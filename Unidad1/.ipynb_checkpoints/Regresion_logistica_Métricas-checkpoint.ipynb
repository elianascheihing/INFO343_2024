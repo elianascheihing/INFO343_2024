{
 "cells": [
  {
   "cell_type": "markdown",
   "metadata": {},
   "source": [
    "##  Regresión Logística\n",
    "En esta sesión vamos a analizar una generalización del modelo de regresion lineal que permite modelar un conjunto de datos,  en que la variable a explicar es **binaria** y las variables explicativas son numéricas o categóricas. Para su estimación utilizaremos la función `glm` de R.\n",
    "\n",
    "\n",
    "**Formalmente:**\n",
    "\n",
    "Sea $y \\in \\{0,1\\}$ la variable a explicar y $\\textbf{x} \\in \\mathbb{R}^k$ las variables explicativas.\n",
    "\n",
    "Dos cambios respecto de la regresión lineal: \n",
    "\n",
    "- El primero es que $y |\\textbf{x}$ se modela como una v.a. con distribución $\\textbf{Bernoulli}$ en lugar de una Normal, es decir:\n",
    "\n",
    "$$p(y |\\textbf{x},\\beta)= Ber(\\mu(\\textbf{x}))$$\n",
    "\n",
    "dónde \n",
    "\n",
    "$$\\mathbb{E}[y|\\textbf{x}] = p(y=1|\\textbf{x}) = \\mu(\\textbf{x})$$\n",
    "\n",
    "- Y lo segundo es que, al igual que en la regresión lineal, se considera una combinación lineal de las variables explicativas, pero esta combinación lineal es pasada como parámetro a una función $\\mu$ que toma valores en el intervalo $[0,1]$, de manera que:\n",
    "\n",
    "$$\\mu(x) = \\sigma(\\beta^T\\textbf{x})$$\n",
    "\n",
    "dónde $\\sigma$ es la función sigmoidal definida por:\n",
    "\n",
    "$$\\sigma(\\eta) = \\frac{1}{1+exp(-\\eta)} = \\frac{e^{\\eta}}{e^{\\eta}+1}$$\n",
    "\n",
    "y su inversa conocida también como $\\textbf{logística}$ o $\\textbf{logit}$ es: \n",
    "\n",
    "$$\\text{logit}(p) = ln\\left(\\frac{p}{1- p}\\right)$$\n",
    "\n",
    "entonces se cumple que \n",
    "\n",
    "$$ \\text{logit}(\\mu(\\textbf{x}))= \\text{logit}(\\sigma(\\beta^T\\textbf{x})) = \\beta^T\\textbf{x}$$\n",
    "\n",
    "Asi, se obtiene el modelo:\n",
    "\n",
    "\n",
    "\n",
    "$$\\text{logit}(\\mathbb{E}[y|\\textbf{x}]) = \\beta^T\\textbf{x}$$\n",
    "\n",
    "denominado regresión logística, por su similitud con la regresión lineal, aunque es una forma de clasificación mas que una regresión.\n",
    "\n",
    "El coeficiente $\\frac{p}{1-p}$ se denomina suele denominar riesgo (odd en inglés) pues es la tasa entre las probabilidades de respuesta \"positiva\" y \"negativa\".\n"
   ]
  },
  {
   "cell_type": "code",
   "execution_count": 1,
   "metadata": {},
   "outputs": [],
   "source": [
    "suppressMessages(library(ggplot2))\n",
    "suppressMessages(library(grid))\n",
    "suppressMessages(library(grDevices))"
   ]
  },
  {
   "cell_type": "code",
   "execution_count": 2,
   "metadata": {},
   "outputs": [
    {
     "data": {
      "image/png": "[encoded data removed]",
      "text/plain": [
       "plot without title"
      ]
     },
     "metadata": {},
     "output_type": "display_data"
    }
   ],
   "source": [
    "#gráfica de la función sigmoide\n",
    "options(repr.plot.width=10, repr.plot.height=10)\n",
    "eta = seq(-10,10,by=0.01)\n",
    "sigma <- function(x){return( exp(x)/(exp(x)+1))}\n",
    "plot(eta,sigma(eta),type=\"l\")\n"
   ]
  },
  {
   "cell_type": "markdown",
   "metadata": {},
   "source": [
    "### Estimación de parámetros $\\beta$\n",
    "Los parámetros $\\beta$ se pueden estimar por máxima verosimilitud.\n",
    "En efecto, sea la muestra $\\{(y_i,\\textbf{x}_i), i=1,\\cdots,n\\}$, se tiene:\n",
    "\n",
    "$$\\begin{array}{lll}\n",
    "\\log \\mathcal{L} (\\beta) & = &  {\\displaystyle \\sum_{i=1}^n} y_i \\log \\sigma(\\beta^T \\textbf{x}_i) + {\\displaystyle \\sum_{i=1}^n}  (1-y_i) \\log (1- \\sigma(\\beta^T \\textbf{x}_i))\\\\\n",
    "&  = &{\\displaystyle \\sum_{i=1}^n} y_i \\log \\left(\\frac{\\sigma(\\beta^T \\textbf{x}_i)}{1- \\sigma(\\beta^T \\textbf{x}_i)}\\right) + {\\displaystyle \\sum_{i=1}^n}  \\log (1- \\sigma(\\beta^T \\textbf{x}_i))\\\\\n",
    "& = & {\\displaystyle \\sum_{i=1}^n}  y_i \\beta^T \\textbf{x}_i + {\\displaystyle \\sum_{i=1}^n}  \\log (1- e^{\\beta^T \\textbf{x}_i})\n",
    "\\end{array}$$\n",
    "\n",
    "A partir de esta función de verosimilitud no es posible obtener de manera analítica los  estimadores máximo verosímiles de $\\beta$. Se requiere utilizar algún algoritmo de aproximación como Newton-Raphson para las raices del gradiente de $\\log \\mathcal{L}(\\beta)$ o utilizar directamente el algoritmo del gradiente descendente. \n",
    "\n",
    "En el caso de Newton-Raphson las ecuaciones de aproximación quedan:\n",
    "\n",
    "$$\\hat{\\beta}^{nuevo} = \\hat{\\beta}^{viejo} + (X^TW X)^{-1}X^T(\\textbf{y} - \\hat{\\mu})$$\n",
    "\n",
    "donde $X \\in M_{nxk}$ es la matriz de valores de las $k$ variables explicativas en las $n$ observaciones, \n",
    "\n",
    "$$\\hat{\\mu}_i = \\frac{e^{X_{i}\\hat{\\beta}^{viejo}}}{e^{X_{i}\\beta^{viejo}}+1}$$\n",
    "\n",
    "y $W \\in M_{nxn}$ es la matriz diagonal con:\n",
    "\n",
    "$$ w_{ii} = \\hat{\\mu}_i ( 1- \\hat{\\mu}_i)$$\n",
    "\n",
    "Lo criterios de convergencia del método iterativo utilizado para estimar los parámetros pueden ser varios, pero en todos ellos la idea subyacente es que:\n",
    "\n",
    "$$\\hat{\\beta}^{nuevo} \\approx \\hat{\\beta}^{viejo} \\qquad \\mbox{ o } \\qquad\\log \\mathcal{L}(\\hat{\\beta}^{viejo}) \\approx log \\mathcal{L} (\\hat{\\beta}^{nuevo})\\qquad\\mbox{ o }\\qquad \\hat{\\mu}^{viejo} \\approx \\hat{\\mu}^{nuevo}$$ \n"
   ]
  },
  {
   "cell_type": "code",
   "execution_count": 62,
   "metadata": {},
   "outputs": [
    {
     "data": {
      "text/plain": [
       "     student         grp        take_exam          social      \n",
       " user0003:  1   G157   : 88   Min.   :0.0000   Min.   :0.0000  \n",
       " user0004:  1   G152   : 86   1st Qu.:1.0000   1st Qu.:0.0000  \n",
       " user0005:  1   G153   : 86   Median :1.0000   Median :1.0000  \n",
       " user0006:  1   G158   : 86   Mean   :0.8132   Mean   :0.5109  \n",
       " user0007:  1   G151   : 85   3rd Qu.:1.0000   3rd Qu.:1.0000  \n",
       " user0008:  1   G154   : 85   Max.   :1.0000   Max.   :1.0000  \n",
       " (Other) :679   (Other):169   NA's   :5                        \n",
       "     gender          pretest          posttest           exam       \n",
       " Min.   :0.0000   Min.   :0.0000   Min.   :0.0000   Min.   : -1.00  \n",
       " 1st Qu.:1.0000   1st Qu.:0.0900   1st Qu.:0.4500   1st Qu.: 52.00  \n",
       " Median :1.0000   Median :0.1800   Median :0.6400   Median : 80.00  \n",
       " Mean   :0.7736   Mean   :0.2251   Mean   :0.5996   Mean   : 64.29  \n",
       " 3rd Qu.:1.0000   3rd Qu.:0.2700   3rd Qu.:0.8200   3rd Qu.: 90.00  \n",
       " Max.   :1.0000   Max.   :1.0000   Max.   :1.0000   Max.   :100.00  \n",
       " NA's   :49       NA's   :47       NA's   :252      NA's   :5       \n",
       "       Fi              CBi               Vi              MApi      \n",
       " Min.   :0.0000   Min.   :0.0000   Min.   :0.0000   Min.   :0.060  \n",
       " 1st Qu.:0.5000   1st Qu.:0.3500   1st Qu.:0.6000   1st Qu.:0.610  \n",
       " Median :0.5800   Median :0.5000   Median :0.6700   Median :0.720  \n",
       " Mean   :0.5651   Mean   :0.5042   Mean   :0.7015   Mean   :0.693  \n",
       " 3rd Qu.:0.6700   3rd Qu.:0.6500   3rd Qu.:0.8000   3rd Qu.:0.830  \n",
       " Max.   :1.0000   Max.   :1.0000   Max.   :1.0000   Max.   :1.000  \n",
       " NA's   :49       NA's   :49       NA's   :49       NA's   :49     \n",
       "      PApi      \n",
       " Min.   :0.000  \n",
       " 1st Qu.:0.440  \n",
       " Median :0.610  \n",
       " Mean   :0.574  \n",
       " 3rd Qu.:0.720  \n",
       " Max.   :1.000  \n",
       " NA's   :49     "
      ]
     },
     "metadata": {},
     "output_type": "display_data"
    },
    {
     "data": {
      "text/plain": [
       "   take_exam         pretest             Fi              CBi        \n",
       " Min.   :0.0000   Min.   :0.0000   Min.   :0.0000   Min.   :0.0000  \n",
       " 1st Qu.:1.0000   1st Qu.:0.0900   1st Qu.:0.5000   1st Qu.:0.3500  \n",
       " Median :1.0000   Median :0.1800   Median :0.5800   Median :0.5000  \n",
       " Mean   :0.8381   Mean   :0.2229   Mean   :0.5628   Mean   :0.5028  \n",
       " 3rd Qu.:1.0000   3rd Qu.:0.2700   3rd Qu.:0.6700   3rd Qu.:0.6500  \n",
       " Max.   :1.0000   Max.   :1.0000   Max.   :1.0000   Max.   :1.0000  \n",
       "       Vi              MApi             PApi      \n",
       " Min.   :0.0000   Min.   :0.0600   Min.   :0.000  \n",
       " 1st Qu.:0.6000   1st Qu.:0.5725   1st Qu.:0.440  \n",
       " Median :0.6700   Median :0.7200   Median :0.610  \n",
       " Mean   :0.7003   Mean   :0.6910   Mean   :0.572  \n",
       " 3rd Qu.:0.8000   3rd Qu.:0.8300   3rd Qu.:0.720  \n",
       " Max.   :1.0000   Max.   :1.0000   Max.   :1.000  "
      ]
     },
     "metadata": {},
     "output_type": "display_data"
    },
    {
     "data": {
      "text/html": [
       "<ol class=list-inline>\n",
       "\t<li>630</li>\n",
       "\t<li>7</li>\n",
       "</ol>\n"
      ],
      "text/latex": [
       "\\begin{enumerate*}\n",
       "\\item 630\n",
       "\\item 7\n",
       "\\end{enumerate*}\n"
      ],
      "text/markdown": [
       "1. 630\n",
       "2. 7\n",
       "\n",
       "\n"
      ],
      "text/plain": [
       "[1] 630   7"
      ]
     },
     "metadata": {},
     "output_type": "display_data"
    }
   ],
   "source": [
    "#Ejemplo de regresión logística para datos previos\n",
    "\n",
    "datos <- read.csv(\"data/student_data.csv\",header=TRUE,sep=\",\")\n",
    "summary(datos)\n",
    "datos1 <- datos[,c(3,6,9:13)]\n",
    "datos1 <- datos1[!is.na(datos1[,3])& !is.na(datos1[,2])&!is.na(datos1[,1]),]\n",
    "summary(datos1)\n",
    "dim(datos1)"
   ]
  },
  {
   "cell_type": "code",
   "execution_count": 63,
   "metadata": {},
   "outputs": [
    {
     "data": {
      "image/png": "[encoded data removed]",
      "text/plain": [
       "plot without title"
      ]
     },
     "metadata": {},
     "output_type": "display_data"
    }
   ],
   "source": [
    "p0 <- ggplot(datos1, aes(x = as.factor(take_exam), y = pretest)) +\n",
    "    geom_boxplot() +\n",
    "    stat_summary(fun.y = mean,\n",
    "        geom = \"point\",\n",
    "        size = 3,\n",
    "        color = \"steelblue\") +\n",
    "    theme_classic()\n",
    "p1 <- ggplot(datos1, aes(x = as.factor(take_exam), y = Fi)) +\n",
    "    geom_boxplot() +\n",
    "    stat_summary(fun.y = mean,\n",
    "        geom = \"point\",\n",
    "        size = 3,\n",
    "        color = \"steelblue\") +\n",
    "    theme_classic()\n",
    "p2 <- ggplot(datos1, aes(x = as.factor(take_exam), y = CBi)) +\n",
    "    geom_boxplot() +\n",
    "    stat_summary(fun.y = mean,\n",
    "        geom = \"point\",\n",
    "        size = 3,\n",
    "        color = \"steelblue\") +\n",
    "    theme_classic()\n",
    "p3 <- ggplot(datos1, aes(x = as.factor(take_exam), y = Vi)) +\n",
    "    geom_boxplot() +\n",
    "    stat_summary(fun.y = mean,\n",
    "        geom = \"point\",\n",
    "        size = 3,\n",
    "        color = \"steelblue\") +\n",
    "    theme_classic()\n",
    "p4 <- ggplot(datos1, aes(x = as.factor(take_exam), y = MApi)) +\n",
    "    geom_boxplot() +\n",
    "    stat_summary(fun.y = mean,\n",
    "        geom = \"point\",\n",
    "        size = 3,\n",
    "        color = \"steelblue\") +\n",
    "    theme_classic()\n",
    "p5 <- ggplot(datos1, aes(x = as.factor(take_exam), y = PApi)) +\n",
    "    geom_boxplot() +\n",
    "    stat_summary(fun.y = mean,\n",
    "        geom = \"point\",\n",
    "        size = 3,\n",
    "        color = \"steelblue\") +\n",
    "    theme_classic()\n",
    "\n",
    "grid.arrange(p0,p1,p2,p3,p4,p5, ncol=2, nrow = 3)"
   ]
  },
  {
   "cell_type": "code",
   "execution_count": 64,
   "metadata": {},
   "outputs": [
    {
     "data": {
      "image/png": "[encoded data removed]",
      "text/plain": [
       "plot without title"
      ]
     },
     "metadata": {},
     "output_type": "display_data"
    }
   ],
   "source": [
    "#take_exam toma el valor 1 si terminó el curso  0 si no\n",
    "#Fi es una variable motivacional\n",
    "#install.packages(\"gridExtra\")\n",
    "library(gridExtra)\n",
    "g0 <- ggplot(datos1, aes(pretest, fill = as.factor(take_exam))) +\n",
    "  geom_density(alpha = .4)\n",
    "g1 <- ggplot(datos1, aes(Fi, fill = as.factor(take_exam))) +\n",
    "  geom_density(alpha = .4)\n",
    "g2 <- ggplot(datos1, aes(CBi, fill = as.factor(take_exam))) +\n",
    "  geom_density(alpha = .4)\n",
    "g3 <- ggplot(datos1, aes(Vi, fill = as.factor(take_exam))) +\n",
    "  geom_density(alpha = .4)\n",
    "g4 <- ggplot(datos1, aes(MApi, fill = as.factor(take_exam))) +\n",
    "  geom_density(alpha = .4)\n",
    "g5 <- ggplot(datos1, aes(PApi, fill = as.factor(take_exam))) +\n",
    "  geom_density(alpha = .4)\n",
    "\n",
    "grid.arrange(g0,g1,g2,g3,g4,g5, ncol=2, nrow = 3)"
   ]
  },
  {
   "cell_type": "code",
   "execution_count": 65,
   "metadata": {},
   "outputs": [
    {
     "data": {
      "text/plain": [
       "\n",
       "Call:\n",
       "glm(formula = take_exam ~ pretest + Fi + CBi + Vi + MApi + PApi, \n",
       "    family = binomial(link = \"logit\"), data = datos1)\n",
       "\n",
       "Deviance Residuals: \n",
       "    Min       1Q   Median       3Q      Max  \n",
       "-2.1962   0.4859   0.5536   0.6203   0.9477  \n",
       "\n",
       "Coefficients:\n",
       "            Estimate Std. Error z value Pr(>|z|)   \n",
       "(Intercept)  1.68359    0.55588   3.029  0.00246 **\n",
       "pretest     -0.58287    0.57404  -1.015  0.30992   \n",
       "Fi          -0.06982    0.93668  -0.075  0.94058   \n",
       "CBi          0.59757    0.59186   1.010  0.31266   \n",
       "Vi          -1.31601    0.81803  -1.609  0.10767   \n",
       "MApi         0.33778    0.80827   0.418  0.67601   \n",
       "PApi         0.96883    0.46168   2.099  0.03586 * \n",
       "---\n",
       "Signif. codes:  0 '***' 0.001 '**' 0.01 '*' 0.05 '.' 0.1 ' ' 1\n",
       "\n",
       "(Dispersion parameter for binomial family taken to be 1)\n",
       "\n",
       "    Null deviance: 557.95  on 629  degrees of freedom\n",
       "Residual deviance: 548.26  on 623  degrees of freedom\n",
       "AIC: 562.26\n",
       "\n",
       "Number of Fisher Scoring iterations: 4\n"
      ]
     },
     "metadata": {},
     "output_type": "display_data"
    }
   ],
   "source": [
    "res<- glm(take_exam ~ pretest+Fi+CBi+Vi+MApi+PApi, data=datos1,family = binomial(link = \"logit\"))\n",
    "summary(res)"
   ]
  },
  {
   "cell_type": "code",
   "execution_count": 66,
   "metadata": {},
   "outputs": [
    {
     "data": {
      "text/plain": [
       "\n",
       "Call:\n",
       "glm(formula = take_exam ~ PApi, family = binomial(link = \"logit\"), \n",
       "    data = datos1)\n",
       "\n",
       "Deviance Residuals: \n",
       "    Min       1Q   Median       3Q      Max  \n",
       "-2.0970   0.5243   0.5639   0.6086   0.7571  \n",
       "\n",
       "Coefficients:\n",
       "            Estimate Std. Error z value Pr(>|z|)    \n",
       "(Intercept)   1.1031     0.2576   4.282 1.86e-05 ***\n",
       "PApi          0.9781     0.4373   2.237   0.0253 *  \n",
       "---\n",
       "Signif. codes:  0 '***' 0.001 '**' 0.01 '*' 0.05 '.' 0.1 ' ' 1\n",
       "\n",
       "(Dispersion parameter for binomial family taken to be 1)\n",
       "\n",
       "    Null deviance: 557.95  on 629  degrees of freedom\n",
       "Residual deviance: 553.04  on 628  degrees of freedom\n",
       "AIC: 557.04\n",
       "\n",
       "Number of Fisher Scoring iterations: 4\n"
      ]
     },
     "metadata": {},
     "output_type": "display_data"
    }
   ],
   "source": [
    "res1<- glm(take_exam ~ PApi, data=datos1,family = binomial(link = \"logit\"))\n",
    "summary(res1)"
   ]
  },
  {
   "cell_type": "code",
   "execution_count": 67,
   "metadata": {},
   "outputs": [
    {
     "data": {
      "image/png": "[encoded data removed]",
      "text/plain": [
       "plot without title"
      ]
     },
     "metadata": {},
     "output_type": "display_data"
    }
   ],
   "source": [
    "dat <-cbind(rep(1,630),datos1$PApi)\n",
    "prob1 <- sigma(dat%*%res1$coefficients)\n",
    "ord <- order(prob1)\n",
    "plot(datos1$PApi[ord],prob1[ord],col=\"red\",ylim=c(0,1),type=\"l\")\n",
    "points(datos1$PApi[ord],datos1$take_exam[ord])\n"
   ]
  },
  {
   "cell_type": "markdown",
   "metadata": {},
   "source": [
    "### Evaluación del Ajuste del modelo\n",
    "\n",
    "**Cálculo de residuos**\n",
    "\n",
    "Si notamos\n",
    "$$ \\hat{p}_i = \\sigma(\\hat{\\beta}^T x_i)$$ \n",
    "\n",
    "entonces se define el residuo en la verosimilitud correspondiente a la observación $i$ en el modelo estimado como:\n",
    "\n",
    "$$dev_i = -2 [y_i log (\\hat{p}_i) + (1-y_i) log (1-  \\hat{p}_i)]$$"
   ]
  },
  {
   "cell_type": "code",
   "execution_count": 59,
   "metadata": {},
   "outputs": [
    {
     "data": {
      "image/png": "[encoded data removed]",
      "text/plain": [
       "plot without title"
      ]
     },
     "metadata": {},
     "output_type": "display_data"
    }
   ],
   "source": [
    "plot(residuals(res1))"
   ]
  },
  {
   "cell_type": "markdown",
   "metadata": {},
   "source": [
    "**Coeficiente de información de Akaike, AIC**\n",
    "\n",
    "Recordemos que \n",
    "\n",
    "$$AIC = 2k - 2logL$$\n",
    "\n",
    "donde k es el número de parámetros del modelo. Cuando se comparan modelos se escoge aquel con menor AIC."
   ]
  },
  {
   "cell_type": "markdown",
   "metadata": {},
   "source": [
    "### Evaluación de clasificadores\n",
    "\n",
    "#### Métricas para clasificadores binarios\n",
    "\n",
    "El regresor logístico retorna una predicción probabilística en el rango $[0, 1]$. Podemos convertir esta predicción en una decisión binaria seleccionando un umbral $\\mathcal{T}$ tal que\n",
    "\n",
    "$$\n",
    "d_i = \n",
    "\\begin{cases} \n",
    "0, & \\text{si } \\hat{p}_i = \\sigma(\\hat{\\beta}^T x_i)  < \\mathcal{T} \\\\ \n",
    "1, & \\text{si } \\hat{p}_i = \\sigma(\\hat{\\beta}^T x_i)  \\geq \\mathcal{T}\n",
    "\\end{cases}\n",
    "$$\n",
    "\n",
    "\n",
    "En un clasificador binario usar $\\mathcal{T}=0.5$ es equivalente al tomar el argumento máximo de la predicción probabilística.\n",
    "\n",
    "Una vez seleccionado el umbral se puede contar la cantidad de \n",
    "\n",
    "- **True positives** (TP): Ejemplos de clase (1) y clasificados como (1)\n",
    "- **True negative** (TN): Ejemplos de clase (0) y clasificados como (0)\n",
    "- **False positives** (FP): Ejemplos de clase (0) y clasificados como (1): \n",
    "- **False negative** (FN): Ejemplos de clase (1) y clasificados como (0): \n",
    "\n",
    "A partir de estas métricas se construye la **tabla o matriz de confusión** del clasificador\n",
    "\n",
    "|Predicho como/Etiqueta|Positivo|Negativo|\n",
    "|---|---|---|\n",
    "|Positivo:|TP | FP |\n",
    "|Negativo:| FN | TN |\n",
    "\n",
    "Se puede estimar una matriz de confusión con R de la manera siguiente:"
   ]
  },
  {
   "cell_type": "code",
   "execution_count": 1,
   "metadata": {},
   "outputs": [
    {
     "ename": "ERROR",
     "evalue": "Error in factor(datos1$take_exam, levels = c(\"1\", \"0\")): objeto 'datos1' no encontrado\n",
     "output_type": "error",
     "traceback": [
      "Error in factor(datos1$take_exam, levels = c(\"1\", \"0\")): objeto 'datos1' no encontrado\nTraceback:\n",
      "1. factor(datos1$take_exam, levels = c(\"1\", \"0\"))"
     ]
    }
   ],
   "source": [
    "datos1$take_exam <- factor(datos1$take_exam, levels=c(\"1\",\"0\") )\n",
    "estimacion <- factor(prob1>0.76,levels=c(\"TRUE\",\"FALSE\"))\n",
    "                           \n",
    "tab <- table(estimacion, datos1$take_exam)\n",
    "print(tab)"
   ]
  },
  {
   "cell_type": "markdown",
   "metadata": {},
   "source": [
    "La matriz de confusión suele resumirse con las siguientes métricas:\n",
    "\n",
    "**Error tipo I**: La proporción de negativos incorrectamente clasificados respecto del total de observaciones clasificadas como positivas:\n",
    "$$\\text{E_I} = \\frac{FP}{TP+FP}$$\n",
    "\n",
    "**Error tipo II**: La proporción de positivos incorrectamente clasificados respecto del total de observaciones clasificadas como negativas:\n",
    "$$\\text{E_II} = \\frac{FN}{FN+TN}$$\n",
    "\n",
    "**True Positive Rate** o **Recall**: La proporción de positivos correctamente clasificados respecto al total de positivos:\n",
    "$$\\text{TPR} = \\frac{TP}{TP + FN}$$\n",
    "\n",
    "**False Positive Rate**: La proporción de negativos incorrectamente clasificados respecto al total de negativos:\n",
    "$$\\text{FPR} = \\frac{FP}{TN + FP} = 1 - \\frac{TN}{TN + FP}$$\n",
    "\n",
    "**Precision** o Pureza: La proporción de positivos correctamente clasificados respecto a todos los ejemplos clasificados como positivo:\n",
    "$$\\text{Precision} = \\frac{TP}{TP + FP}$$\n",
    "\n",
    "**Accuracy**: La proporción de ejemplos correctamente clasificados\n",
    "$$\\text{Accuracy} = \\frac{TP+TN}{TP + FP + FN+ TN}$$\n",
    "\n",
    "**F1-score**: La media armónica entre Recall y Precision asumiendo igual ponderación\n",
    "$$\\text{f1-score} = \\frac{2 \\cdot \\text{Recall} \\cdot \\text{Precision}}{\\text{Recall}+\\text{Precision}}\n",
    "$$\n",
    "\n",
    "Si las clases son desbalanceadas entonces *f1-score* es preferible ante *accuracy*.\n",
    "\n",
    "Podemos obtener estas métricas con *R* como sigue"
   ]
  },
  {
   "cell_type": "code",
   "execution_count": 69,
   "metadata": {},
   "outputs": [
    {
     "name": "stdout",
     "output_type": "stream",
     "text": [
      "           E_I      E_II       TPR       FPR       PRE       ACC  F1-score\n",
      "[1,] 0.1560403 0.7352941 0.9526515 0.9117647 0.8439597 0.8126984 0.8950178\n"
     ]
    }
   ],
   "source": [
    "error <- (tab[2,1]+tab[1,2])/sum(tab)\n",
    "errorI <- tab[1,2]/(tab[1,1]+tab[1,2])\n",
    "errorII <- tab[2,1]/(tab[2,1]+tab[2,2])\n",
    "TPR <- tab[1,1]/(tab[1,1]+tab[2,1])\n",
    "FPR <- tab[1,2]/(tab[1,2]+tab[2,2])\n",
    "PRE <- tab[1,1]/(tab[1,1]+tab[1,2])\n",
    "ACC <- (tab[1,1]+tab[2,2])/sum(tab)\n",
    "F1_score <- (2*TPR*PRE)/(TPR+PRE)\n",
    "mat <- matrix(c(errorI,errorII,TPR,FPR,PRE,ACC,F1_score),nrow=1,ncol=7)\n",
    "colnames(mat) <- c(\"E_I\",\"E_II\",\"TPR\",\"FPR\",\"PRE\",\"ACC\",\"F1-score\")\n",
    "\n",
    "print(mat)"
   ]
  },
  {
   "cell_type": "code",
   "execution_count": 70,
   "metadata": {},
   "outputs": [
    {
     "name": "stdout",
     "output_type": "stream",
     "text": [
      "          \n",
      "estimacion   1   0\n",
      "     TRUE  468  77\n",
      "     FALSE  60  25\n",
      "           E_I      E_II       TPR      FPR       PRE       ACC  F1-score\n",
      "[1,] 0.1412844 0.7058824 0.8863636 0.754902 0.8587156 0.7825397 0.8723206\n"
     ]
    }
   ],
   "source": [
    "datos1$take_exam <- factor(datos1$take_exam, levels=c(\"1\",\"0\") )\n",
    "estimacion <- factor(prob1>0.8,levels=c(\"TRUE\",\"FALSE\"))\n",
    "                           \n",
    "tab <- table(estimacion, datos1$take_exam)\n",
    "print(tab)\n",
    "\n",
    "error <- (tab[2,1]+tab[1,2])/sum(tab)\n",
    "errorI <- tab[1,2]/(tab[1,1]+tab[1,2])\n",
    "errorII <- tab[2,1]/(tab[2,1]+tab[2,2])\n",
    "TPR <- tab[1,1]/(tab[1,1]+tab[2,1])\n",
    "FPR <- tab[1,2]/(tab[1,2]+tab[2,2])\n",
    "PRE <- tab[1,1]/(tab[1,1]+tab[1,2])\n",
    "ACC <- (tab[1,1]+tab[2,2])/sum(tab)\n",
    "F1_score <- (2*TPR*PRE)/(TPR+PRE)\n",
    "mat <- matrix(c(errorI,errorII,TPR,FPR,PRE,ACC,F1_score),nrow=1,ncol=7)\n",
    "colnames(mat) <- c(\"E_I\",\"E_II\",\"TPR\",\"FPR\",\"PRE\",\"ACC\",\"F1-score\")\n",
    "\n",
    "print(mat)"
   ]
  },
  {
   "cell_type": "markdown",
   "metadata": {},
   "source": [
    "###### **Cuantificando Habilidad Predictiva: Curva ROC**\n",
    "\n",
    "Este análisis considera variar el valor p(=0.5 por omisión) que guía la clasificación de los datos y se observa como varían la sensibilidad (TPR: tasa de verdaderos positivos sobre el total de positivos)  en relación al inverso de la especificidad que es la tasa de verdaderos negativos sobre el total de negativos (i.e. FPR). Si el área bajo la curva ROC es cercana a 1 se trata de un buen clasificador, si es cercana a 0.5 corresponde a una clasificación aleatoria (igual probabilidad de positivo o negativo)."
   ]
  },
  {
   "cell_type": "code",
   "execution_count": 14,
   "metadata": {},
   "outputs": [
    {
     "name": "stdout",
     "output_type": "stream",
     "text": [
      "           [,1]       [,2]       [,3]\n",
      " [1,] 0.7508416 0.95265152 0.08823529\n",
      " [2,] 0.7608416 0.95265152 0.08823529\n",
      " [3,] 0.7708416 0.94507576 0.11764706\n",
      " [4,] 0.7808416 0.91477273 0.17647059\n",
      " [5,] 0.7908416 0.90340909 0.20588235\n",
      " [6,] 0.8008416 0.88636364 0.24509804\n",
      " [7,] 0.8108416 0.85416667 0.28431373\n",
      " [8,] 0.8208416 0.82007576 0.29411765\n",
      " [9,] 0.8308416 0.75946970 0.34313725\n",
      "[10,] 0.8408416 0.54924242 0.51960784\n",
      "[11,] 0.8508416 0.46401515 0.54901961\n",
      "[12,] 0.8608416 0.21780303 0.80392157\n",
      "[13,] 0.8708416 0.17234848 0.83333333\n",
      "[14,] 0.8808416 0.05113636 0.94117647\n",
      "[15,] 0.8908416 0.00000000 1.00000000\n",
      "[16,] 0.9008416 0.00000000 1.00000000\n",
      "[17,] 0.9108416 0.00000000 1.00000000\n",
      "[18,] 0.9208416 0.00000000 1.00000000\n",
      "[19,] 0.9308416 0.00000000 1.00000000\n",
      "[20,] 0.9408416 0.00000000 1.00000000\n",
      "[21,] 0.0000000 0.00000000 0.00000000\n",
      "[22,] 0.0000000 0.00000000 0.00000000\n",
      "[23,] 0.0000000 0.00000000 0.00000000\n",
      "[24,] 0.0000000 0.00000000 0.00000000\n",
      "[25,] 0.0000000 0.00000000 0.00000000\n",
      "[26,] 0.0000000 0.00000000 0.00000000\n",
      "[27,] 0.0000000 0.00000000 0.00000000\n",
      "[28,] 0.0000000 0.00000000 0.00000000\n",
      "[29,] 0.0000000 0.00000000 0.00000000\n",
      "[1] 1.0000000 0.7508416 0.9117647 0.9526515\n"
     ]
    },
    {
     "data": {
      "image/png": "[encoded data removed]",
      "text/plain": [
       "plot without title"
      ]
     },
     "metadata": {},
     "output_type": "display_data"
    }
   ],
   "source": [
    "p1=matrix(0,nrow=29,ncol=3)\n",
    "i=1\n",
    "imin = 1\n",
    "minn = (min(prob1)-0.5)**2\n",
    "for(p in seq(min(prob1),.95,.01)){\n",
    "    estimacion <- factor(prob1>p,levels=c(\"TRUE\",\"FALSE\"))\n",
    "    t1=table(estimacion,as.factor(datos1$take_exam))\n",
    "    if (dim(t1)[[1]]==2){\n",
    "        p1[i,]=c(p,(t1[1,1])/sum(t1[,1]),(t1[2,2])/sum(t1[,2]))\n",
    "        i=i+1\n",
    "        if (minn>(p-0.5)**2){\n",
    "            imin=i\n",
    "            minn=(p-0.5)**2          \n",
    "        }\n",
    "    }\n",
    "        \n",
    "}\n",
    "print(p1)\n",
    "print(c(imin,p1[imin,1],1-p1[imin,3],p1[imin,2]))\n",
    "p1 <- p1[p1[,3]>0,]\n",
    "plot(1-p1[,3],p1[,2],type=\"l\",xlab=\"1-especificidad\",ylab=\"sensibilidad\",ylim=c(0,1))\n",
    "lines(c(0,1),c(0,1),col=\"red\")\n",
    "points(1-p1[imin,3],p1[imin,2],pch=19, col=\"blue\")"
   ]
  },
  {
   "cell_type": "markdown",
   "metadata": {},
   "source": [
    "### Curva Precision vs Recall"
   ]
  },
  {
   "cell_type": "code",
   "execution_count": 71,
   "metadata": {},
   "outputs": [
    {
     "name": "stdout",
     "output_type": "stream",
     "text": [
      "            [,1]      [,2]\n",
      " [1,] 0.95265152 0.8439597\n",
      " [2,] 0.95265152 0.8439597\n",
      " [3,] 0.95265152 0.8439597\n",
      " [4,] 0.94886364 0.8448567\n",
      " [5,] 0.94507576 0.8471986\n",
      " [6,] 0.94507576 0.8471986\n",
      " [7,] 0.91477273 0.8518519\n",
      " [8,] 0.91477273 0.8518519\n",
      " [9,] 0.90340909 0.8548387\n",
      "[10,] 0.90340909 0.8548387\n",
      "[11,] 0.88636364 0.8587156\n",
      "[12,] 0.88636364 0.8587156\n",
      "[13,] 0.85416667 0.8606870\n",
      "[14,] 0.82007576 0.8574257\n",
      "[15,] 0.82007576 0.8574257\n",
      "[16,] 0.75946970 0.8568376\n",
      "[17,] 0.75946970 0.8568376\n",
      "[18,] 0.62310606 0.8590078\n",
      "[19,] 0.54924242 0.8554572\n",
      "[20,] 0.46401515 0.8419244\n",
      "[21,] 0.46401515 0.8419244\n",
      "[22,] 0.29924242 0.8681319\n",
      "[23,] 0.21780303 0.8518519\n",
      "[24,] 0.21780303 0.8518519\n",
      "[25,] 0.17234848 0.8425926\n",
      "[26,] 0.06818182 0.7826087\n",
      "[27,] 0.05113636 0.8181818\n",
      "[28,] 0.03409091 0.7826087\n"
     ]
    },
    {
     "data": {
      "image/png": "[encoded data removed]",
      "text/plain": [
       "plot without title"
      ]
     },
     "metadata": {},
     "output_type": "display_data"
    }
   ],
   "source": [
    "p1=matrix(0,nrow=100,ncol=2)\n",
    "i=1\n",
    "imin = 1\n",
    "minn = (min(prob1)-0.5)**2\n",
    "for(p in seq(min(prob1),.99,.005)){\n",
    "    estimacion <- factor(prob1>p,levels=c(\"TRUE\",\"FALSE\"))\n",
    "    t1=table(estimacion,as.factor(datos1$take_exam))\n",
    "    if (dim(t1)[[1]]==2){\n",
    "        p1[i,]=c((t1[1,1])/sum(t1[,1]),(t1[1,1])/sum(t1[1,]))\n",
    "        i=i+1\n",
    "        if (minn>(p-0.5)**2){\n",
    "            imin=i\n",
    "            minn=(p-0.5)**2 \n",
    "        }\n",
    "    }\n",
    "        \n",
    "}\n",
    "\n",
    "p1 <- p1[p1[,1]>0,]\n",
    "print(p1)\n",
    "plot(p1[,1],p1[,2],type=\"l\",xlab=\"Recall\",ylab=\"Precision\",ylim=c(0,1))\n",
    "points(p1[imin,1],p1[imin,2],pch=19, col=\"blue\")"
   ]
  },
  {
   "cell_type": "markdown",
   "metadata": {},
   "source": [
    "**Ejercicio 1:**\n",
    "1. Defina una muestra de sus datos, de manera de obtener un conjunto de datos equilibrados.\n",
    "2. Rehaga el ajuste de la regresión logística y concluya. "
   ]
  },
  {
   "cell_type": "markdown",
   "metadata": {},
   "source": [
    "**Ejercicio 2**: \n",
    "1. Considere el conjunto de datos \"data_prep.csv\". Defina la variable activo = 1 si el estudiante tiene un time_total > 300, 0 si no. \n",
    "2. Desarrolle un análisis exploratorio de estos datos considerando como variable a explicar (predecir) la variable activo y  explorando el potencial predictor de las variables pretest y las variables motivacionales Fi, CBi, Vi, MApi, PApi.\n",
    "3. Ajuste una regresión logística a sus datos\n",
    "4. Evalue la calidad de la clasificación y concluya.\n"
   ]
  },
  {
   "cell_type": "code",
   "execution_count": 72,
   "metadata": {},
   "outputs": [
    {
     "data": {
      "text/plain": [
       "     student           social       gender    take_exam        Fi        \n",
       " user0003:  1   individual:335   female:144   no  :127   Min.   :0.0000  \n",
       " user0004:  1   social    :350   male  :492   yes :553   1st Qu.:0.5000  \n",
       " user0005:  1                    NA's  : 49   NA's:  5   Median :0.5800  \n",
       " user0006:  1                                            Mean   :0.5651  \n",
       " user0007:  1                                            3rd Qu.:0.6700  \n",
       " user0008:  1                                            Max.   :1.0000  \n",
       " (Other) :679                                            NA's   :49      \n",
       "      CBi               Vi              MApi            PApi      \n",
       " Min.   :0.0000   Min.   :0.0000   Min.   :0.060   Min.   :0.000  \n",
       " 1st Qu.:0.3500   1st Qu.:0.6000   1st Qu.:0.610   1st Qu.:0.440  \n",
       " Median :0.5000   Median :0.6700   Median :0.720   Median :0.610  \n",
       " Mean   :0.5042   Mean   :0.7015   Mean   :0.693   Mean   :0.574  \n",
       " 3rd Qu.:0.6500   3rd Qu.:0.8000   3rd Qu.:0.830   3rd Qu.:0.720  \n",
       " Max.   :1.0000   Max.   :1.0000   Max.   :1.000   Max.   :1.000  \n",
       " NA's   :49       NA's   :49       NA's   :49      NA's   :49     \n",
       "   total_time    total_activity      qp_time         wa_time       \n",
       " Min.   :    0   Min.   :   0.0   Min.   :    0   Min.   :    0.0  \n",
       " 1st Qu.:    0   1st Qu.:   0.0   1st Qu.:    0   1st Qu.:    0.0  \n",
       " Median :   34   Median :   2.0   Median :    0   Median :    0.0  \n",
       " Mean   : 1494   Mean   : 130.3   Mean   : 1052   Mean   :  441.2  \n",
       " 3rd Qu.: 1639   3rd Qu.: 165.0   3rd Qu.: 1174   3rd Qu.:  371.0  \n",
       " Max.   :26628   Max.   :1209.0   Max.   :14815   Max.   :16890.0  \n",
       "                                                                   \n",
       "  qp_activity      wa_activity    total_time_be     total_activity_be\n",
       " Min.   :  0.00   Min.   :  0.0   Min.   :    0.0   Min.   :   0.00  \n",
       " 1st Qu.:  0.00   1st Qu.:  0.0   1st Qu.:    0.0   1st Qu.:   0.00  \n",
       " Median :  0.00   Median :  0.0   Median :    0.0   Median :   0.00  \n",
       " Mean   : 25.33   Mean   :104.9   Mean   :  749.8   Mean   :  69.57  \n",
       " 3rd Qu.: 31.00   3rd Qu.:118.0   3rd Qu.:  556.0   3rd Qu.:  69.00  \n",
       " Max.   :367.00   Max.   :913.0   Max.   :18459.0   Max.   :1046.00  \n",
       "                                                                     \n",
       "    pretest          posttest        exam_norm          lgain_pp     \n",
       " Min.   :0.0000   Min.   :0.0000   Min.   :-1.0000   Min.   :  -Inf  \n",
       " 1st Qu.:0.0900   1st Qu.:0.4500   1st Qu.: 0.5100   1st Qu.:0.2195  \n",
       " Median :0.1800   Median :0.6400   Median : 0.8000   Median :0.5069  \n",
       " Mean   :0.2251   Mean   :0.5996   Mean   : 0.4474   Mean   :  -Inf  \n",
       " 3rd Qu.:0.2700   3rd Qu.:0.8200   3rd Qu.: 0.9000   3rd Qu.:0.7300  \n",
       " Max.   :1.0000   Max.   :1.0000   Max.   : 1.0000   Max.   :1.0000  \n",
       " NA's   :47       NA's   :252                        NA's   :265     \n",
       "    lgain_pe     \n",
       " Min.   :  -Inf  \n",
       " 1st Qu.:0.5854  \n",
       " Median :0.7927  \n",
       " Mean   :  -Inf  \n",
       " 3rd Qu.:0.8903  \n",
       " Max.   :1.0000  \n",
       " NA's   :154     "
      ]
     },
     "metadata": {},
     "output_type": "display_data"
    }
   ],
   "source": [
    "#datos que incluyen actividad\n",
    "datos2 <- read.csv(\"data/data_prep.csv\",header=TRUE,sep=\",\")\n",
    "summary(datos2)\n"
   ]
  }
 ],
 "metadata": {
  "kernelspec": {
   "display_name": "R",
   "language": "R",
   "name": "ir"
  },
  "language_info": {
   "codemirror_mode": "r",
   "file_extension": ".r",
   "mimetype": "text/x-r-source",
   "name": "R",
   "pygments_lexer": "r",
   "version": "3.6.1"
  }
 },
 "nbformat": 4,
 "nbformat_minor": 2
}
